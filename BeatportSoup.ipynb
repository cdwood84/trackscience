{
 "cells": [
  {
   "cell_type": "code",
   "execution_count": 1,
   "id": "14f69944-2ca9-4283-a9ca-9970b76e47f3",
   "metadata": {},
   "outputs": [],
   "source": [
    "from bs4 import BeautifulSoup\n",
    "import os, random, requests, string"
   ]
  },
  {
   "cell_type": "code",
   "execution_count": 2,
   "id": "6eadbfc1-539a-4580-99bc-f7f4080938dc",
   "metadata": {},
   "outputs": [],
   "source": [
    "config_directory = os.getcwd() + '/../local/'\n",
    "exec(open(config_directory+'config.py').read())"
   ]
  },
  {
   "cell_type": "code",
   "execution_count": 3,
   "id": "9b526ac5-fa0f-455f-8762-143e089d72ff",
   "metadata": {},
   "outputs": [],
   "source": [
    "proxy = {'http': 'http://' + os.environ['MY_PROXY']}\n",
    "user_agents = [ \n",
    "    'Mozilla/5.0 (Windows NT 10.0; Win64; x64) AppleWebKit/537.36 (KHTML, like Gecko) Chrome/91.0.4472.124 Safari/537.36', \n",
    "    'Mozilla/5.0 (X11; Linux x86_64) AppleWebKit/537.36 (KHTML, like Gecko) Chrome/92.0.4515.107 Safari/537.36', \n",
    "    'Mozilla/5.0 (Windows NT 10.0; Win64; x64) AppleWebKit/537.36 (KHTML, like Gecko) Chrome/90.0.4430.212 Safari/537.36', \n",
    "    'Mozilla/5.0 (iPhone; CPU iPhone OS 12_2 like Mac OS X) AppleWebKit/605.1.15 (KHTML, like Gecko) Mobile/15E148', \n",
    "    'Mozilla/5.0 (Linux; Android 11; SM-G960U) AppleWebKit/537.36 (KHTML, like Gecko) Chrome/89.0.4389.72 Mobile Safari/537.36' \n",
    "]\n",
    "user_agent = random.choice(user_agents)\n",
    "headers = {'User-Agent': user_agent} \n",
    "rand_alpha = ''.join(random.choice(string.ascii_letters) for _ in range(random.randint(3, 10)))\n",
    "obj_name = 'track'\n",
    "id = 20248801\n",
    "target_url = 'http://www.beatport.com/' + obj_name + '/' + rand_alpha + '/' + str(id)"
   ]
  },
  {
   "cell_type": "code",
   "execution_count": 4,
   "id": "d6ccb4ce-b753-4681-81ee-c2b2e5c22412",
   "metadata": {},
   "outputs": [],
   "source": [
    "try:\n",
    "    response = requests.get(target_url, proxies=proxy, headers=headers, timeout=5)\n",
    "    response.raise_for_status()\n",
    "    html_content = response.text\n",
    "    soup = BeautifulSoup(html_content, 'html.parser')\n",
    "except Exception as e:\n",
    "    print('Error: '+str(e))"
   ]
  },
  {
   "cell_type": "code",
   "execution_count": 5,
   "id": "1b711ada-f578-4a00-b4c7-710f753eeca3",
   "metadata": {},
   "outputs": [
    {
     "name": "stdout",
     "output_type": "stream",
     "text": [
      "Dreamin\n",
      "Anyma Remix\n"
     ]
    }
   ],
   "source": [
    "title_line = soup.find('body').find('h1', {'class': lambda x: x and x.startswith('Typography-style__HeadingH1')})\n",
    "title = str(title_line).split('>')[1].split('<')[0]\n",
    "mix = str(title_line).split('<span')[1].split('>')[1].split('<')[0]\n",
    "print(title)\n",
    "print(mix)"
   ]
  },
  {
   "cell_type": "code",
   "execution_count": 59,
   "id": "a91b6eda-0199-4ebe-bf9f-572bd8ab3382",
   "metadata": {},
   "outputs": [
    {
     "name": "stdout",
     "output_type": "stream",
     "text": [
      "Artists:\n",
      "http://www.beatport.com/artist/dom-dolla/271875\n",
      "http://www.beatport.com/artist/daya/358686\n",
      "http://www.beatport.com/artist/anyma-ofc/985223\n",
      "Remixers:\n",
      "http://www.beatport.com/artist/anyma-ofc/985223\n"
     ]
    }
   ],
   "source": [
    "artists = soup.find('body').findAll('div', {'class': lambda x: x and x.startswith('Artists-styles__Items')})\n",
    "for section in artists:\n",
    "    if 'remix' in str(section).lower():\n",
    "        print('Remixers:')\n",
    "    else:\n",
    "        print('Artists:')\n",
    "    for artist in section.findAll('a', href=True):\n",
    "        artist_url = 'http://www.beatport.com' + artist['href']\n",
    "        artist_id = artist['href'].split('/')[-1]\n",
    "        print(artist_url)"
   ]
  },
  {
   "cell_type": "code",
   "execution_count": 58,
   "id": "e915cc56-d872-43ba-b1bf-dd29080e3d60",
   "metadata": {},
   "outputs": [
    {
     "name": "stdout",
     "output_type": "stream",
     "text": [
      "Length - 3:31\n",
      "Released - 2025-03-19\n",
      "BPM - 130\n",
      "Key - Gb Minor\n",
      "Genre - Melodic House & Techno(http://www.beatport.com/genre/melodic-house-techno/90)\n",
      "Label - Three Six Zero Recordings(http://www.beatport.com/label/three-six-zero-recordings/86656)\n"
     ]
    }
   ],
   "source": [
    "metadata = soup.find('body').findAll('div', {'class': lambda x: x and x.startswith('TrackMeta-style__MetaItem')})\n",
    "for data in metadata:\n",
    "    field = str(data).split('<div>')[1].split('<')[0].replace(':','')\n",
    "    if data.find('a'):\n",
    "        link = data.find('a', href=True)\n",
    "        value = link.text\n",
    "        url = 'http://www.beatport.com' + link['href']\n",
    "        print(field + ' - ' + value + ' (' + url + ')')\n",
    "    else: \n",
    "        value = str(data).split('<span>')[1].split('<')[0]\n",
    "        print(field + ' - ' + value)"
   ]
  },
  {
   "cell_type": "code",
   "execution_count": 7,
   "id": "8711fd5b-feff-48b9-8498-0078327b6b1e",
   "metadata": {},
   "outputs": [
    {
     "name": "stdout",
     "output_type": "stream",
     "text": [
      "Melodic House & Techno\n"
     ]
    }
   ],
   "source": [
    "obj_name = 'genre'\n",
    "id = 90\n",
    "target_url = 'http://www.beatport.com/' + obj_name + '/' + rand_alpha + '/' + str(id)\n",
    "try:\n",
    "    response = requests.get(target_url, proxies=proxy, headers=headers, timeout=5)\n",
    "    response.raise_for_status()\n",
    "    html_content = response.text\n",
    "    soup = BeautifulSoup(html_content, 'html.parser')\n",
    "except Exception as e:\n",
    "    print('Error: '+str(e))\n",
    "genre_name = soup.find('body').find('h1').text\n",
    "print(genre_name)"
   ]
  },
  {
   "cell_type": "code",
   "execution_count": 8,
   "id": "80dbb8bf-03a1-4e2a-8e7a-f6a7a13273c7",
   "metadata": {},
   "outputs": [
    {
     "name": "stdout",
     "output_type": "stream",
     "text": [
      "Three Six Zero Recordings\n"
     ]
    }
   ],
   "source": [
    "obj_name = 'label'\n",
    "id = 86656\n",
    "target_url = 'http://www.beatport.com/' + obj_name + '/' + rand_alpha + '/' + str(id)\n",
    "try:\n",
    "    response = requests.get(target_url, proxies=proxy, headers=headers, timeout=5)\n",
    "    response.raise_for_status()\n",
    "    html_content = response.text\n",
    "    soup = BeautifulSoup(html_content, 'html.parser')\n",
    "except Exception as e:\n",
    "    print('Error: '+str(e))\n",
    "label_name = soup.find('body').find('h1').text\n",
    "print(label_name)"
   ]
  },
  {
   "cell_type": "code",
   "execution_count": 9,
   "id": "5fe183ac-e49f-4763-a91d-beabb3e2747f",
   "metadata": {},
   "outputs": [
    {
     "name": "stdout",
     "output_type": "stream",
     "text": [
      "Dom Dolla\n"
     ]
    }
   ],
   "source": [
    "obj_name = 'artist'\n",
    "id = 271875\n",
    "target_url = 'http://www.beatport.com/' + obj_name + '/' + rand_alpha + '/' + str(id)\n",
    "try:\n",
    "    response = requests.get(target_url, proxies=proxy, headers=headers, timeout=5)\n",
    "    response.raise_for_status()\n",
    "    html_content = response.text\n",
    "    soup = BeautifulSoup(html_content, 'html.parser')\n",
    "except Exception as e:\n",
    "    print('Error: '+str(e))\n",
    "label_name = soup.find('body').find('h1').text\n",
    "print(label_name)"
   ]
  }
 ],
 "metadata": {
  "kernelspec": {
   "display_name": "Python 3 (ipykernel)",
   "language": "python",
   "name": "python3"
  },
  "language_info": {
   "codemirror_mode": {
    "name": "ipython",
    "version": 3
   },
   "file_extension": ".py",
   "mimetype": "text/x-python",
   "name": "python",
   "nbconvert_exporter": "python",
   "pygments_lexer": "ipython3",
   "version": "3.13.2"
  }
 },
 "nbformat": 4,
 "nbformat_minor": 5
}
