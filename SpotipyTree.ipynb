{
 "cells": [
  {
   "cell_type": "code",
   "execution_count": 5,
   "id": "574b33bc-b69f-474e-ab6a-ddf96d15722a",
   "metadata": {},
   "outputs": [],
   "source": [
    "# imports\n",
    "\n",
    "import json\n",
    "import os\n",
    "import pandas\n",
    "import psycopg2\n",
    "import random\n",
    "import requests\n",
    "import spotipy\n",
    "import time\n",
    "import uuid\n",
    "from MusicLibrary import MusicLibrary\n",
    "from spotipy.oauth2 import SpotifyOAuth"
   ]
  },
  {
   "cell_type": "code",
   "execution_count": 2,
   "id": "bbef2b02-b76a-43ff-a983-03c38a969ec1",
   "metadata": {},
   "outputs": [],
   "source": [
    "# read environment variables from local config file\n",
    "\n",
    "config_directory = os.getcwd() + '/../local/'\n",
    "exec(open(config_directory+'config.py').read())"
   ]
  },
  {
   "cell_type": "code",
   "execution_count": null,
   "id": "ac4e6944-ca55-4583-ad28-090c5721b9dc",
   "metadata": {},
   "outputs": [],
   "source": [
    "# Spotify API config\n",
    "\n",
    "scope = \"playlist-read-private\"\n",
    "spotify_connection = spotipy.Spotify(auth_manager=SpotifyOAuth(scope=scope))"
   ]
  },
  {
   "cell_type": "code",
   "execution_count": 3,
   "id": "32e77468-d783-4e6d-beb8-de15b0b64037",
   "metadata": {},
   "outputs": [],
   "source": [
    "# postgres DB config\n",
    "\n",
    "db_connection = psycopg2.connect(\n",
    "    dbname=os.environ['LOCAL_DB_DBNAME'],\n",
    "    user=os.environ['LOCAL_DB_USER'],\n",
    "    password=os.environ['LOCAL_DB_PASSWORD'],\n",
    "    host=os.environ['LOCAL_DB_HOST'], \n",
    "    port=os.environ['LOCAL_DB_PORT'],\n",
    ")\n",
    "cursor = db_connection.cursor()"
   ]
  },
  {
   "cell_type": "code",
   "execution_count": 6,
   "id": "12a4577a-4000-4bb1-a6be-e5646a9e8429",
   "metadata": {},
   "outputs": [
    {
     "name": "stdout",
     "output_type": "stream",
     "text": [
      "('3pyPyRSFvIOMNS3S2CeMDB', 'Jolie Fille', '2025-04-27T20:33:07Z', 1, 4)\n"
     ]
    }
   ],
   "source": [
    "# query track data for analysis\n",
    "# alternative 1\n",
    "\n",
    "cursor.execute(\"\"\"\n",
    "    WITH\n",
    "    \n",
    "        playlist_tracks AS (\n",
    "            SELECT\n",
    "                track_id,\n",
    "                MIN(added_at) AS min_playlist_added_at,\n",
    "                COUNT(DISTINCT playlist_id) AS playlist_count\n",
    "            FROM playlist_track\n",
    "            GROUP BY track_id\n",
    "        ),\n",
    "\n",
    "        track_artists AS (\n",
    "            SELECT\n",
    "                track_id,\n",
    "                COUNT(DISTINCT artist_id) AS artist_count\n",
    "            FROM track_artist\n",
    "            GROUP BY track_id\n",
    "        )\n",
    "        \n",
    "    SELECT\n",
    "        t.id AS track_id,\n",
    "        t.name AS track_name,\n",
    "        pt.min_playlist_added_at,\n",
    "        pt.playlist_count,\n",
    "        ta.artist_count\n",
    "    FROM track AS t\n",
    "        LEFT JOIN playlist_tracks AS pt\n",
    "            ON t.id = pt.track_id\n",
    "        LEFT JOIN track_artists AS ta\n",
    "            ON t.id = ta.track_id\n",
    "    ;\n",
    "\"\"\")\n",
    "\n",
    "result = cursor.fetchall()\n",
    "\n",
    "for row in result:\n",
    "    print(row)\n",
    "    break"
   ]
  },
  {
   "cell_type": "code",
   "execution_count": 7,
   "id": "6cdbe111-9dda-4fe1-babd-6ac9d6888920",
   "metadata": {},
   "outputs": [],
   "source": [
    "# close postgres DB\n",
    "\n",
    "cursor.close()\n",
    "db_connection.close()"
   ]
  },
  {
   "cell_type": "code",
   "execution_count": 8,
   "id": "107e13e1-ccdc-4296-aaa2-ea20c88befc8",
   "metadata": {},
   "outputs": [
    {
     "ename": "KeyError",
     "evalue": "'results'",
     "output_type": "error",
     "traceback": [
      "\u001b[0;31m---------------------------------------------------------------------------\u001b[0m",
      "\u001b[0;31mKeyError\u001b[0m                                  Traceback (most recent call last)",
      "Cell \u001b[0;32mIn[8], line 5\u001b[0m\n\u001b[1;32m      1\u001b[0m \u001b[38;5;66;03m# fetch data via class object\u001b[39;00m\n\u001b[1;32m      2\u001b[0m \u001b[38;5;66;03m# alternative 2\u001b[39;00m\n\u001b[1;32m      4\u001b[0m lib \u001b[38;5;241m=\u001b[39m MusicLibrary()\n\u001b[0;32m----> 5\u001b[0m \u001b[38;5;28;01mif\u001b[39;00m \u001b[43mlib\u001b[49m\u001b[38;5;241;43m.\u001b[39;49m\u001b[43mload_data_from_db\u001b[49m\u001b[43m(\u001b[49m\u001b[43m)\u001b[49m \u001b[38;5;129;01mis\u001b[39;00m \u001b[38;5;28;01mTrue\u001b[39;00m:\n\u001b[1;32m      6\u001b[0m     \u001b[38;5;28mprint\u001b[39m(lib)\n",
      "File \u001b[0;32m~/Documents/code-repo/trackscience/MusicLibrary.py:873\u001b[0m, in \u001b[0;36mMusicLibrary.load_data_from_db\u001b[0;34m(self)\u001b[0m\n\u001b[1;32m    871\u001b[0m errors \u001b[38;5;241m=\u001b[39m \u001b[38;5;28;01mFalse\u001b[39;00m\n\u001b[1;32m    872\u001b[0m \u001b[38;5;28;01mfor\u001b[39;00m object_name \u001b[38;5;129;01min\u001b[39;00m \u001b[38;5;28mself\u001b[39m\u001b[38;5;241m.\u001b[39mdata:\n\u001b[0;32m--> 873\u001b[0m     \u001b[38;5;28;01mif\u001b[39;00m \u001b[38;5;28;43mself\u001b[39;49m\u001b[38;5;241;43m.\u001b[39;49m\u001b[43mread_object_data_from_db\u001b[49m\u001b[43m(\u001b[49m\u001b[43mobject_name\u001b[49m\u001b[43m)\u001b[49m \u001b[38;5;241m==\u001b[39m \u001b[38;5;28;01mFalse\u001b[39;00m:\n\u001b[1;32m    874\u001b[0m         errors \u001b[38;5;241m=\u001b[39m \u001b[38;5;28;01mTrue\u001b[39;00m\n\u001b[1;32m    875\u001b[0m \u001b[38;5;28;01mif\u001b[39;00m errors \u001b[38;5;241m==\u001b[39m \u001b[38;5;28;01mFalse\u001b[39;00m:\n",
      "File \u001b[0;32m~/Documents/code-repo/trackscience/MusicLibrary.py:808\u001b[0m, in \u001b[0;36mMusicLibrary.read_object_data_from_db\u001b[0;34m(self, object_name)\u001b[0m\n\u001b[1;32m    806\u001b[0m query \u001b[38;5;241m=\u001b[39m \u001b[38;5;28mself\u001b[39m\u001b[38;5;241m.\u001b[39mexecute_database_statement(statement)\n\u001b[1;32m    807\u001b[0m \u001b[38;5;28;01mif\u001b[39;00m query[\u001b[38;5;124m'\u001b[39m\u001b[38;5;124mstatus\u001b[39m\u001b[38;5;124m'\u001b[39m] \u001b[38;5;129;01mis\u001b[39;00m \u001b[38;5;28;01mTrue\u001b[39;00m:\n\u001b[0;32m--> 808\u001b[0m     \u001b[38;5;28;01mfor\u001b[39;00m row \u001b[38;5;129;01min\u001b[39;00m \u001b[43mquery\u001b[49m\u001b[43m[\u001b[49m\u001b[38;5;124;43m'\u001b[39;49m\u001b[38;5;124;43mresults\u001b[39;49m\u001b[38;5;124;43m'\u001b[39;49m\u001b[43m]\u001b[49m:\n\u001b[1;32m    809\u001b[0m         \u001b[38;5;28;01mif\u001b[39;00m object_name \u001b[38;5;241m==\u001b[39m \u001b[38;5;124m'\u001b[39m\u001b[38;5;124mplaylist_backlog\u001b[39m\u001b[38;5;124m'\u001b[39m:\n\u001b[1;32m    810\u001b[0m             row_data \u001b[38;5;241m=\u001b[39m row[\u001b[38;5;241m1\u001b[39m]\n",
      "\u001b[0;31mKeyError\u001b[0m: 'results'"
     ]
    }
   ],
   "source": [
    "# fetch data via class object\n",
    "# alternative 2\n",
    "\n",
    "lib = MusicLibrary()\n",
    "if lib.load_data_from_db() is True:\n",
    "    print(lib)"
   ]
  },
  {
   "cell_type": "code",
   "execution_count": null,
   "id": "2975a350-f39d-4157-aa01-1a8697cb3715",
   "metadata": {},
   "outputs": [],
   "source": []
  }
 ],
 "metadata": {
  "kernelspec": {
   "display_name": "Python 3 (ipykernel)",
   "language": "python",
   "name": "python3"
  },
  "language_info": {
   "codemirror_mode": {
    "name": "ipython",
    "version": 3
   },
   "file_extension": ".py",
   "mimetype": "text/x-python",
   "name": "python",
   "nbconvert_exporter": "python",
   "pygments_lexer": "ipython3",
   "version": "3.13.2"
  }
 },
 "nbformat": 4,
 "nbformat_minor": 5
}
