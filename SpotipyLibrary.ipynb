{
 "cells": [
  {
   "cell_type": "code",
   "execution_count": 15,
   "id": "885afa6b-6ef1-466b-b2dd-1b540357d95b",
   "metadata": {},
   "outputs": [],
   "source": [
    "import os\n",
    "import spotipy\n",
    "from spotipy.oauth2 import SpotifyOAuth"
   ]
  },
  {
   "cell_type": "code",
   "execution_count": 16,
   "id": "b944e148-889f-44d3-a237-710a0651e8a5",
   "metadata": {},
   "outputs": [],
   "source": [
    "config_directory = os.getcwd() + '/../local/'\n",
    "exec(open(config_directory+'config.py').read())\n",
    "scope = \"user-library-read\"\n",
    "spotify_connection = spotipy.Spotify(auth_manager=SpotifyOAuth(scope=scope))"
   ]
  },
  {
   "cell_type": "code",
   "execution_count": 17,
   "id": "27410b29-e862-47c8-ba4d-7b001954c4f3",
   "metadata": {},
   "outputs": [
    {
     "name": "stdout",
     "output_type": "stream",
     "text": [
      "0 Mikey Lion  –  Breathe\n",
      "1 Davalo  –  Deeper\n",
      "2 Chicola  –  Clockers (Balanced Mix) - Mix Cut\n",
      "3 Gianni Romano  –  I See You\n",
      "4 Cut Snake  –  Yogi's on a Thursday\n",
      "5 Mikey Lion  –  Your Bad Self\n",
      "6 Jesse Bloch  –  Believe\n",
      "7 Mikey Lion  –  Good Times\n",
      "8 Mendo  –  That's It\n",
      "9 Taiki Nulight  –  Don't Wanna Let Go\n",
      "10 Ship Wrek  –  Misbehave\n",
      "11 BLR  –  Lipstick (feat. Robbie Rise)\n",
      "12 Nora En Pure  –  Aquatic\n",
      "13 Dom Dolla  –  Miracle Maker\n",
      "14 Benny Benassi  –  Inside\n",
      "15 Andre Salmon  –  Reality Doesn't Mean a Thing\n",
      "16 Gorgon City  –  Tell Me It’s True\n",
      "17 Nora En Pure  –  Life on Hold\n",
      "18 John Summit  –  Connected - Edit\n",
      "19 Kevin McKay  –  I Feel Love\n"
     ]
    }
   ],
   "source": [
    "results = spotify_connection.current_user_saved_tracks()\n",
    "for idx, item in enumerate(results['items']):\n",
    "    track = item['track']\n",
    "    print(idx, track['artists'][0]['name'], \" – \", track['name'])"
   ]
  },
  {
   "cell_type": "code",
   "execution_count": null,
   "id": "a3f1342f-3994-4be8-a6fb-ca4bebdf323d",
   "metadata": {},
   "outputs": [],
   "source": []
  }
 ],
 "metadata": {
  "kernelspec": {
   "display_name": "Python 3 (ipykernel)",
   "language": "python",
   "name": "python3"
  },
  "language_info": {
   "codemirror_mode": {
    "name": "ipython",
    "version": 3
   },
   "file_extension": ".py",
   "mimetype": "text/x-python",
   "name": "python",
   "nbconvert_exporter": "python",
   "pygments_lexer": "ipython3",
   "version": "3.13.2"
  }
 },
 "nbformat": 4,
 "nbformat_minor": 5
}
